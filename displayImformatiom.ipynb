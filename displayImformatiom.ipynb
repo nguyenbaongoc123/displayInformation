{
 "cells": [
  {
   "cell_type": "code",
   "execution_count": 3,
   "id": "879193b1",
   "metadata": {},
   "outputs": [
    {
     "name": "stdout",
     "output_type": "stream",
     "text": [
      "nguyen bao ngoc\n",
      "13/06/1997\n",
      "dia chi: TP HUE\n",
      "muc dich hoc khoa hoc python la de nam vung lap trinh can ban\n"
     ]
    }
   ],
   "source": [
    "print('nguyen bao ngoc')\n",
    "print('13/06/1997') \n",
    "print('dia chi: TP HUE')\n",
    "print('muc dich hoc khoa hoc python la de nam vung lap trinh can ban')"
   ]
  },
  {
   "cell_type": "code",
   "execution_count": null,
   "id": "75e8b360",
   "metadata": {},
   "outputs": [],
   "source": []
  }
 ],
 "metadata": {
  "kernelspec": {
   "display_name": "Python 3 (ipykernel)",
   "language": "python",
   "name": "python3"
  },
  "language_info": {
   "codemirror_mode": {
    "name": "ipython",
    "version": 3
   },
   "file_extension": ".py",
   "mimetype": "text/x-python",
   "name": "python",
   "nbconvert_exporter": "python",
   "pygments_lexer": "ipython3",
   "version": "3.9.13"
  }
 },
 "nbformat": 4,
 "nbformat_minor": 5
}
